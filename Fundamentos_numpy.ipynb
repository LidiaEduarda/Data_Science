{
 "cells": [
  {
   "cell_type": "markdown",
   "id": "f807d7d3-176a-42c5-a7ac-91714fbd3a86",
   "metadata": {},
   "source": [
    "# Introdução ao Numpy \n",
    "#### NumPy é uma biblioteca em Python usada para computação numérica. Ela fornece suporte para arrays e matrizes multidimensionais, além de uma coleção de funções matemáticas para operar esses arrays de maneira eficiente. \n",
    "\n",
    "#### 1. Arrays N-dimensionais: Estruturas de dados eficientes para armazenar e manipular grandes volumes de dados numéricos.\n",
    "#### 2. Operações Vetorizadas: Funções matemáticas que operam em arrays inteiros sem a necessidade de loops explícitos.\n",
    "#### 3. Ferramentas de Álgebra Linear e Transformadas de Fourier: Funções para resolver sistemas lineares, decomposições de matrizes, transformadas de Fourier, etc.\n",
    "#### 4. Integração com C/C++ e Fortran: Facilidade para integrar código em C/C++ e Fortran, proporcionando maior desempenho."
   ]
  },
  {
   "cell_type": "code",
   "execution_count": 1,
   "id": "2ffc5978-54f8-4b68-8c60-b12522fc4aa7",
   "metadata": {},
   "outputs": [],
   "source": [
    "import numpy "
   ]
  },
  {
   "cell_type": "markdown",
   "id": "d938a49a-d144-4b58-a375-3681f20d71b4",
   "metadata": {},
   "source": [
    "#### Array \n",
    "##### São parecidas com lista com algumas diferenças: \n",
    "##### Unico tipo de dado - float, int, str, boll;\n",
    "##### Não retorna as virgulas separando os valores;"
   ]
  },
  {
   "cell_type": "code",
   "execution_count": 13,
   "id": "6f191c92-8f0b-4101-b721-f30f73518e18",
   "metadata": {},
   "outputs": [
    {
     "name": "stdout",
     "output_type": "stream",
     "text": [
      "[1 2 3 4 5 6]\n"
     ]
    }
   ],
   "source": [
    "# Tranformando lista em array \n",
    "lista = [1, 2, 3, 4, 5, 6]\n",
    "\n",
    "array = np.array(lista)\n",
    "print(array)"
   ]
  },
  {
   "cell_type": "code",
   "execution_count": 3,
   "id": "c778e0bd-71a1-4a30-bd3e-5ea5af3e992b",
   "metadata": {},
   "outputs": [
    {
     "name": "stdout",
     "output_type": "stream",
     "text": [
      "<class 'list'>\n",
      "<class 'numpy.ndarray'>\n"
     ]
    }
   ],
   "source": [
    "# Identificando o tipo das variaveis \n",
    "print(type(lista))\n",
    "print(type(array))"
   ]
  },
  {
   "cell_type": "code",
   "execution_count": 11,
   "id": "cab5e9d7-82f7-4fe3-a77e-d600452af959",
   "metadata": {},
   "outputs": [
    {
     "name": "stdout",
     "output_type": "stream",
     "text": [
      "[0. 0. 0. 0. 0. 0. 0. 0. 0. 0.]\n"
     ]
    }
   ],
   "source": [
    "# Criando uma array com função pronta\n",
    "array_zeros = np.zeros(10)\n",
    "print(array_zeros)"
   ]
  },
  {
   "cell_type": "code",
   "execution_count": 16,
   "id": "f351390e-656d-4b8d-b12b-54d92671e3a3",
   "metadata": {},
   "outputs": [
    {
     "name": "stdout",
     "output_type": "stream",
     "text": [
      "[9 2 3 4 5 6]\n"
     ]
    }
   ],
   "source": [
    "# Acessando e modificando alguns elementos da 1˚ array \n",
    "array[2]\n",
    "\n",
    "array[0] = 9\n",
    "print(array)"
   ]
  },
  {
   "cell_type": "markdown",
   "id": "95d48781-ad38-4c5d-bbc2-52aa7010adfb",
   "metadata": {},
   "source": [
    "#### Matrízes \n",
    "##### Matrizes é uma array com mais de uma dimensão\n",
    "##### São estruturas de dados usadas para armazenar elementos em um formato bidimensional, ou seja, em linhas e colunas."
   ]
  },
  {
   "cell_type": "code",
   "execution_count": 17,
   "id": "86b6dbda-12a9-4a13-a0cd-4285b1b680a5",
   "metadata": {},
   "outputs": [
    {
     "name": "stdout",
     "output_type": "stream",
     "text": [
      "[[0. 0. 0.]\n",
      " [0. 0. 0.]\n",
      " [0. 0. 0.]\n",
      " [0. 0. 0.]\n",
      " [0. 0. 0.]]\n"
     ]
    }
   ],
   "source": [
    "# Criando matriz\n",
    "matriz_zeros = np.zeros((5,3))\n",
    "print(matriz_zeros)"
   ]
  },
  {
   "cell_type": "code",
   "execution_count": 20,
   "id": "f79577e9-b41c-43e9-9116-2c5a1517ba05",
   "metadata": {},
   "outputs": [
    {
     "name": "stdout",
     "output_type": "stream",
     "text": [
      "maximo 9.8\n",
      "Minimo 5.6\n",
      "Desvio padrao 1.5628179676469045\n",
      "Media 7.76\n",
      "podição do menor 1\n"
     ]
    }
   ],
   "source": [
    "#### EXERCICIO - Operações matematicas  \n",
    "##### Criando uma array com notas de alunos\n",
    "notas_alunos = np.array([9.8, 5.6, 7.8, 9.1, 6.5])\n",
    "print('maximo', notas_alunos.max())\n",
    "print('Minimo', notas_alunos.min())\n",
    "print('Desvio padrao', notas_alunos.std())\n",
    "print('Media', notas_alunos.mean())\n",
    "print('podição do menor', notas_alunos.argmin())"
   ]
  },
  {
   "cell_type": "code",
   "execution_count": null,
   "id": "3becadf7-d477-49df-a088-a0ae3cd1b139",
   "metadata": {},
   "outputs": [],
   "source": []
  }
 ],
 "metadata": {
  "kernelspec": {
   "display_name": "Python 3 (ipykernel)",
   "language": "python",
   "name": "python3"
  },
  "language_info": {
   "codemirror_mode": {
    "name": "ipython",
    "version": 3
   },
   "file_extension": ".py",
   "mimetype": "text/x-python",
   "name": "python",
   "nbconvert_exporter": "python",
   "pygments_lexer": "ipython3",
   "version": "3.11.7"
  }
 },
 "nbformat": 4,
 "nbformat_minor": 5
}
