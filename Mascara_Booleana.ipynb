{
 "cells": [
  {
   "cell_type": "markdown",
   "id": "7af402d6-d343-4294-8c80-2a3d8daaeb6e",
   "metadata": {},
   "source": [
    "# Mascaras Booleanas\n",
    "#### Uma máscara booleana em Python é uma técnica usada para filtrar dados em estruturas como arrays. Basicamente, é uma maneira de selecionar elementos de um array que atendem a uma certa condição.\n",
    "#### Imagine que você tem uma lista de números e deseja extrair apenas os números que são maiores que um determinado valor.\n",
    "#### 1. Criação da Condição: Primeiro, você define uma condição para os elementos do array. Por exemplo, \"maior que 3\".\n",
    "#### 2. Geração da Máscara: A máscara booleana é um array de valores booleanos (True ou False), onde cada posição corresponde a um elemento do array original. Se o elemento satisfaz a condição, o valor correspondente na máscara é True; caso contrário, é False.\n",
    "#### 3. Aplicação da Máscara: Usando a máscara, você pode filtrar o array original para obter um novo array contendo apenas os elementos que atendem à condição."
   ]
  },
  {
   "cell_type": "code",
   "execution_count": 8,
   "id": "d3845db6-8c14-44fe-9cd1-7212a5f4b0b0",
   "metadata": {},
   "outputs": [],
   "source": [
    "import numpy as np"
   ]
  },
  {
   "cell_type": "code",
   "execution_count": 9,
   "id": "aff82900-6f15-4a59-899f-b4c1b5dc0ccc",
   "metadata": {},
   "outputs": [
    {
     "name": "stdout",
     "output_type": "stream",
     "text": [
      "['Yes' 'No' 'No' 'Yes' 'Yes' 'No']\n"
     ]
    }
   ],
   "source": [
    "# Criando um array que diz se a pessoa testou positivo ou negativo para covid 19\n",
    "is_covid_positive = np.array(['Yes', 'No', 'No', 'Yes', 'Yes', 'No'])\n",
    "print(is_covid_positive)\n"
   ]
  },
  {
   "cell_type": "code",
   "execution_count": 15,
   "id": "bb1eb2b7-2f1d-4ec8-ad8b-b75ad41f774c",
   "metadata": {},
   "outputs": [
    {
     "name": "stdout",
     "output_type": "stream",
     "text": [
      "[ True False False  True  True False]\n"
     ]
    }
   ],
   "source": [
    "# Criaando uma máscara booleana onde a condição mostre apenas os testes positivo para covid19 (is_covid_positive == 'Yes').\n",
    "# Filtrando dados por um tipo de condição - Retornar true aos casos de covid que são positivos no array\n",
    "investigacao = is_covid_positive == 'Yes' # Investigue quais dos valores do array (is_covid_positive) é positivo, retornando True se for 'Yeas' e Falso se for 'No'\n",
    "print(investigacao)"
   ]
  },
  {
   "cell_type": "code",
   "execution_count": 44,
   "id": "182fdb53-0174-4f1c-8d3a-9a390d826525",
   "metadata": {},
   "outputs": [
    {
     "name": "stdout",
     "output_type": "stream",
     "text": [
      "['Yes' 'Yes' 'Yes']\n"
     ]
    }
   ],
   "source": [
    "# Aplicação da Máscara: Aplicamos a máscara ao array original para obter apenas os elementos que satisfazem a condição passa a mascara ([Yes, Yes, Yes]). \n",
    "# Acessando dados do array is_covid_positive pela variavel (investigacao) para trazer os elementos que condiz com o parametro passado na mascara \n",
    "print(is_covid_positive[investigacao])"
   ]
  },
  {
   "cell_type": "code",
   "execution_count": 45,
   "id": "bf27b421-31a2-4b42-8660-c69bd1e72553",
   "metadata": {},
   "outputs": [
    {
     "name": "stdout",
     "output_type": "stream",
     "text": [
      "['c19' 'No' 'No' 'c19' 'c19' 'No']\n"
     ]
    }
   ],
   "source": [
    "# Modificando os elementos da variavel (investigacao) que antes era 'Yes' e agora passa a ser covid19\n",
    "is_covid_positive[investigacao] = 'c19'\n",
    "print(is_covid_positive)"
   ]
  },
  {
   "cell_type": "code",
   "execution_count": 34,
   "id": "4e2f0ec7-5bcb-4359-a038-a7a4dab9ba4e",
   "metadata": {},
   "outputs": [
    {
     "name": "stdout",
     "output_type": "stream",
     "text": [
      "[4.9 6.5 3.2 6.7]\n"
     ]
    }
   ],
   "source": [
    "# Criando uma array de notas de aluno\n",
    "notas = np.array([4.9, 6.5, 3.2, 6.7])\n",
    "print(notas)"
   ]
  },
  {
   "cell_type": "code",
   "execution_count": 35,
   "id": "aea7ec0f-cb89-46ba-a672-67957e474284",
   "metadata": {},
   "outputs": [
    {
     "name": "stdout",
     "output_type": "stream",
     "text": [
      "[False  True False  True]\n"
     ]
    }
   ],
   "source": [
    "# Verificando quem tem nota acima de 5 e armazenando o resultado na variavel media5\n",
    "media5 = notas >= 5\n",
    "print(media5)"
   ]
  }
 ],
 "metadata": {
  "kernelspec": {
   "display_name": "Python 3 (ipykernel)",
   "language": "python",
   "name": "python3"
  },
  "language_info": {
   "codemirror_mode": {
    "name": "ipython",
    "version": 3
   },
   "file_extension": ".py",
   "mimetype": "text/x-python",
   "name": "python",
   "nbconvert_exporter": "python",
   "pygments_lexer": "ipython3",
   "version": "3.11.7"
  }
 },
 "nbformat": 4,
 "nbformat_minor": 5
}
