{
 "cells": [
  {
   "cell_type": "markdown",
   "id": "2f5fd458-fedb-42b4-91ab-0e7444da45d6",
   "metadata": {},
   "source": [
    "#### DataFrame\n",
    "##### É uma estrutura de dados bidimensional com rótulos nas linhas e colunas. Pode ser vista como uma tabela em um banco de dados, ou uma planilha do Excel."
   ]
  },
  {
   "cell_type": "code",
   "execution_count": 56,
   "id": "0173331b-1dca-4a89-93c6-ee1719bdf3ec",
   "metadata": {},
   "outputs": [],
   "source": [
    "import pandas as pd "
   ]
  },
  {
   "cell_type": "code",
   "execution_count": 35,
   "id": "a4e5f2b7-9b51-419e-bbd3-331b10a900cf",
   "metadata": {},
   "outputs": [],
   "source": [
    "# Criação de dicionario com autores, preços, e titulos\n",
    "dictionary = {'Autores': ['Rick Riordan', 'J. R. R. Tolkien', 'Rick Riordan', 'Machado de Assis'],\n",
    "              'Titulos': ['O Ladrão de Raios', 'A Sociedade do Anel', 'Mar de Monstros', 'Memorias Postumas de Brás Cubas'],\n",
    "              'Preços': [41.2, 35.7, 39.5, 40.5]}"
   ]
  },
  {
   "cell_type": "code",
   "execution_count": 36,
   "id": "246ae390-d4c5-4ef1-bee8-c1cdc69f5ef4",
   "metadata": {},
   "outputs": [
    {
     "data": {
      "text/html": [
       "<div>\n",
       "<style scoped>\n",
       "    .dataframe tbody tr th:only-of-type {\n",
       "        vertical-align: middle;\n",
       "    }\n",
       "\n",
       "    .dataframe tbody tr th {\n",
       "        vertical-align: top;\n",
       "    }\n",
       "\n",
       "    .dataframe thead th {\n",
       "        text-align: right;\n",
       "    }\n",
       "</style>\n",
       "<table border=\"1\" class=\"dataframe\">\n",
       "  <thead>\n",
       "    <tr style=\"text-align: right;\">\n",
       "      <th></th>\n",
       "      <th>Autores</th>\n",
       "      <th>Titulos</th>\n",
       "      <th>Preços</th>\n",
       "    </tr>\n",
       "  </thead>\n",
       "  <tbody>\n",
       "    <tr>\n",
       "      <th>0</th>\n",
       "      <td>Rick Riordan</td>\n",
       "      <td>O Ladrão de Raios</td>\n",
       "      <td>41.2</td>\n",
       "    </tr>\n",
       "    <tr>\n",
       "      <th>1</th>\n",
       "      <td>J. R. R. Tolkien</td>\n",
       "      <td>A Sociedade do Anel</td>\n",
       "      <td>35.7</td>\n",
       "    </tr>\n",
       "    <tr>\n",
       "      <th>2</th>\n",
       "      <td>Rick Riordan</td>\n",
       "      <td>Mar de Monstros</td>\n",
       "      <td>39.5</td>\n",
       "    </tr>\n",
       "    <tr>\n",
       "      <th>3</th>\n",
       "      <td>Machado de Assis</td>\n",
       "      <td>Memorias Postumas de Brás Cubas</td>\n",
       "      <td>40.5</td>\n",
       "    </tr>\n",
       "  </tbody>\n",
       "</table>\n",
       "</div>"
      ],
      "text/plain": [
       "            Autores                          Titulos  Preços\n",
       "0      Rick Riordan                O Ladrão de Raios    41.2\n",
       "1  J. R. R. Tolkien              A Sociedade do Anel    35.7\n",
       "2      Rick Riordan                  Mar de Monstros    39.5\n",
       "3  Machado de Assis  Memorias Postumas de Brás Cubas    40.5"
      ]
     },
     "execution_count": 36,
     "metadata": {},
     "output_type": "execute_result"
    }
   ],
   "source": [
    "# Atribuindo o dictionary a uma DataFrame usando a função ( .pdDataFrame - Cria uma tabela )\n",
    "df = pd.DataFrame(dictionary)\n",
    "df"
   ]
  },
  {
   "cell_type": "code",
   "execution_count": 37,
   "id": "96a49826-8550-4e40-ae57-56a88d9db7d4",
   "metadata": {},
   "outputs": [
    {
     "data": {
      "text/plain": [
       "0        Rick Riordan\n",
       "1    J. R. R. Tolkien\n",
       "2        Rick Riordan\n",
       "3    Machado de Assis\n",
       "Name: Autores, dtype: object"
      ]
     },
     "execution_count": 37,
     "metadata": {},
     "output_type": "execute_result"
    }
   ],
   "source": [
    "# Acessando os elementos do DataFrame (df) por suas chaves\n",
    "# Acessando a chave 'Autores'\n",
    "df['Autores']"
   ]
  },
  {
   "cell_type": "code",
   "execution_count": 38,
   "id": "4878f5f6-7177-43a8-9fc4-b03513687fec",
   "metadata": {},
   "outputs": [
    {
     "data": {
      "text/plain": [
       "'Memorias Postumas de Brás Cubas'"
      ]
     },
     "execution_count": 38,
     "metadata": {},
     "output_type": "execute_result"
    }
   ],
   "source": [
    "# Acessando a o indice 3 da chave 'Titulo'\n",
    "df['Titulos'][3]"
   ]
  },
  {
   "cell_type": "code",
   "execution_count": 39,
   "id": "ffec7e12-4f5d-4b6e-a53a-8aca2a1af86e",
   "metadata": {},
   "outputs": [
    {
     "data": {
      "text/plain": [
       "0    41.2\n",
       "1    35.7\n",
       "2    39.5\n",
       "3    40.5\n",
       "Name: Preços, dtype: float64"
      ]
     },
     "execution_count": 39,
     "metadata": {},
     "output_type": "execute_result"
    }
   ],
   "source": [
    "# Acessando tanto as chaves, quando os indices do dictionary que foi trasformado em DataFrame - O resultado é retornado em forma de uma serie, com isso é possivel fazer algumas operacoes \n",
    "# Usando metodos de matematica dentro do DataFrame - media\n",
    "df['Preços']"
   ]
  },
  {
   "cell_type": "code",
   "execution_count": 40,
   "id": "cdcd8ec6-2145-4ec1-970d-e443097e15ea",
   "metadata": {},
   "outputs": [
    {
     "data": {
      "text/plain": [
       "39.225"
      ]
     },
     "execution_count": 40,
     "metadata": {},
     "output_type": "execute_result"
    }
   ],
   "source": [
    "df['Preços'].mean()"
   ]
  },
  {
   "cell_type": "code",
   "execution_count": 42,
   "id": "0235747f-3df0-47a8-8306-9140f8ff9d42",
   "metadata": {},
   "outputs": [
    {
     "name": "stdout",
     "output_type": "stream",
     "text": [
      "0     True\n",
      "1    False\n",
      "2     True\n",
      "3    False\n",
      "Name: Autores, dtype: bool\n"
     ]
    }
   ],
   "source": [
    "# Criando mascara Booleana onde a condição mostre True apenas para o nome de um certo autor (df == 'Rick Riordan')\n",
    "mascara = df['Autores'] == 'Rick Riordan'\n",
    "print(mascara)"
   ]
  },
  {
   "cell_type": "code",
   "execution_count": 45,
   "id": "d7cfc73b-089f-41e2-a8de-c9bd860c8d01",
   "metadata": {},
   "outputs": [
    {
     "data": {
      "text/html": [
       "<div>\n",
       "<style scoped>\n",
       "    .dataframe tbody tr th:only-of-type {\n",
       "        vertical-align: middle;\n",
       "    }\n",
       "\n",
       "    .dataframe tbody tr th {\n",
       "        vertical-align: top;\n",
       "    }\n",
       "\n",
       "    .dataframe thead th {\n",
       "        text-align: right;\n",
       "    }\n",
       "</style>\n",
       "<table border=\"1\" class=\"dataframe\">\n",
       "  <thead>\n",
       "    <tr style=\"text-align: right;\">\n",
       "      <th></th>\n",
       "      <th>Autores</th>\n",
       "      <th>Titulos</th>\n",
       "      <th>Preços</th>\n",
       "    </tr>\n",
       "  </thead>\n",
       "  <tbody>\n",
       "    <tr>\n",
       "      <th>0</th>\n",
       "      <td>Rick Riordan</td>\n",
       "      <td>O Ladrão de Raios</td>\n",
       "      <td>41.2</td>\n",
       "    </tr>\n",
       "    <tr>\n",
       "      <th>2</th>\n",
       "      <td>Rick Riordan</td>\n",
       "      <td>Mar de Monstros</td>\n",
       "      <td>39.5</td>\n",
       "    </tr>\n",
       "  </tbody>\n",
       "</table>\n",
       "</div>"
      ],
      "text/plain": [
       "        Autores            Titulos  Preços\n",
       "0  Rick Riordan  O Ladrão de Raios    41.2\n",
       "2  Rick Riordan    Mar de Monstros    39.5"
      ]
     },
     "execution_count": 45,
     "metadata": {},
     "output_type": "execute_result"
    }
   ],
   "source": [
    "# A plicando a mascara no DateFrame (df) para que ela returne tudo que fizer relação com o paretro passo na mascara que foi ('Rick Riordan').\n",
    "df[mascara]"
   ]
  },
  {
   "cell_type": "code",
   "execution_count": 76,
   "id": "8702649d-10f7-4797-9f85-699284e439bb",
   "metadata": {},
   "outputs": [
    {
     "data": {
      "text/html": [
       "<div>\n",
       "<style scoped>\n",
       "    .dataframe tbody tr th:only-of-type {\n",
       "        vertical-align: middle;\n",
       "    }\n",
       "\n",
       "    .dataframe tbody tr th {\n",
       "        vertical-align: top;\n",
       "    }\n",
       "\n",
       "    .dataframe thead th {\n",
       "        text-align: right;\n",
       "    }\n",
       "</style>\n",
       "<table border=\"1\" class=\"dataframe\">\n",
       "  <thead>\n",
       "    <tr style=\"text-align: right;\">\n",
       "      <th></th>\n",
       "      <th>Autores</th>\n",
       "      <th>Titulos</th>\n",
       "      <th>Preços</th>\n",
       "      <th>Titulo</th>\n",
       "      <th>Preço</th>\n",
       "    </tr>\n",
       "  </thead>\n",
       "  <tbody>\n",
       "    <tr>\n",
       "      <th>0</th>\n",
       "      <td>Rick Riordan</td>\n",
       "      <td>O Ladrão de Raios</td>\n",
       "      <td>41.2</td>\n",
       "      <td>NaN</td>\n",
       "      <td>NaN</td>\n",
       "    </tr>\n",
       "    <tr>\n",
       "      <th>1</th>\n",
       "      <td>J. R. R. Tolkien</td>\n",
       "      <td>A Sociedade do Anel</td>\n",
       "      <td>35.7</td>\n",
       "      <td>NaN</td>\n",
       "      <td>NaN</td>\n",
       "    </tr>\n",
       "    <tr>\n",
       "      <th>2</th>\n",
       "      <td>Rick Riordan</td>\n",
       "      <td>Mar de Monstros</td>\n",
       "      <td>39.5</td>\n",
       "      <td>NaN</td>\n",
       "      <td>NaN</td>\n",
       "    </tr>\n",
       "    <tr>\n",
       "      <th>3</th>\n",
       "      <td>Machado de Assis</td>\n",
       "      <td>Memorias Postumas de Brás Cubas</td>\n",
       "      <td>40.5</td>\n",
       "      <td>NaN</td>\n",
       "      <td>NaN</td>\n",
       "    </tr>\n",
       "    <tr>\n",
       "      <th>4</th>\n",
       "      <td>Lidia Eduarda</td>\n",
       "      <td>NaN</td>\n",
       "      <td>NaN</td>\n",
       "      <td>A Rainha</td>\n",
       "      <td>50.9</td>\n",
       "    </tr>\n",
       "    <tr>\n",
       "      <th>5</th>\n",
       "      <td>Lidia Eduarda</td>\n",
       "      <td>A Rainha</td>\n",
       "      <td>50.9</td>\n",
       "      <td>NaN</td>\n",
       "      <td>NaN</td>\n",
       "    </tr>\n",
       "    <tr>\n",
       "      <th>6</th>\n",
       "      <td>Lidia Eduarda</td>\n",
       "      <td>A Rainha</td>\n",
       "      <td>50.9</td>\n",
       "      <td>NaN</td>\n",
       "      <td>NaN</td>\n",
       "    </tr>\n",
       "    <tr>\n",
       "      <th>7</th>\n",
       "      <td>Rick Riordan</td>\n",
       "      <td>A Maldiça do Titã</td>\n",
       "      <td>40.2</td>\n",
       "      <td>NaN</td>\n",
       "      <td>NaN</td>\n",
       "    </tr>\n",
       "    <tr>\n",
       "      <th>8</th>\n",
       "      <td>Lidia Eduarda</td>\n",
       "      <td>A Rainha</td>\n",
       "      <td>50.9</td>\n",
       "      <td>NaN</td>\n",
       "      <td>NaN</td>\n",
       "    </tr>\n",
       "    <tr>\n",
       "      <th>9</th>\n",
       "      <td>Rick Riordan</td>\n",
       "      <td>A Maldiça do Titã</td>\n",
       "      <td>40.2</td>\n",
       "      <td>NaN</td>\n",
       "      <td>NaN</td>\n",
       "    </tr>\n",
       "  </tbody>\n",
       "</table>\n",
       "</div>"
      ],
      "text/plain": [
       "            Autores                          Titulos  Preços    Titulo  Preço\n",
       "0      Rick Riordan                O Ladrão de Raios    41.2       NaN    NaN\n",
       "1  J. R. R. Tolkien              A Sociedade do Anel    35.7       NaN    NaN\n",
       "2      Rick Riordan                  Mar de Monstros    39.5       NaN    NaN\n",
       "3  Machado de Assis  Memorias Postumas de Brás Cubas    40.5       NaN    NaN\n",
       "4     Lidia Eduarda                              NaN     NaN  A Rainha   50.9\n",
       "5     Lidia Eduarda                         A Rainha    50.9       NaN    NaN\n",
       "6     Lidia Eduarda                         A Rainha    50.9       NaN    NaN\n",
       "7      Rick Riordan                A Maldiça do Titã    40.2       NaN    NaN\n",
       "8     Lidia Eduarda                         A Rainha    50.9       NaN    NaN\n",
       "9      Rick Riordan                A Maldiça do Titã    40.2       NaN    NaN"
      ]
     },
     "execution_count": 76,
     "metadata": {},
     "output_type": "execute_result"
    }
   ],
   "source": [
    "# Adiciando novos elementos para meu DataFrame (df)\n",
    "# Deu certo o exemplo - desconsidere os espacos em NaN e as linhas repetidas, foi pq rodei o programa até acertar o que eu estava fazendo\n",
    "nova_linha_df = pd.DataFrame({'Autores': ['Rick Riordan'], 'Titulos': ['A Maldiça do Titã'], 'Preços': [40.20]})\n",
    "df = pd.concat([df, nova_linha_df], ignore_index = True) # A função (.concta() - Concatnar dois frame(array) ).\n",
    "df"
   ]
  },
  {
   "cell_type": "code",
   "execution_count": 77,
   "id": "26598ab1-5b66-4418-99fc-0de1f5818762",
   "metadata": {},
   "outputs": [
    {
     "name": "stdout",
     "output_type": "stream",
     "text": [
      "0    False\n",
      "1    False\n",
      "2    False\n",
      "3    False\n",
      "4    False\n",
      "5    False\n",
      "6    False\n",
      "7     True\n",
      "8    False\n",
      "9     True\n",
      "Name: Titulos, dtype: bool\n"
     ]
    }
   ],
   "source": [
    "# Criando uma mascara de correcao que acesse no meu DataFrame(df) e retorne apenas o que for igual a ('A Maldiça do Titã')\n",
    "mascara_de_correcao = df['Titulos'] == 'A Maldiça do Titã'\n",
    "print(mascara_de_correcao)"
   ]
  },
  {
   "cell_type": "code",
   "execution_count": 84,
   "id": "84b3485e-6fc2-46af-93ad-b392c88fd773",
   "metadata": {},
   "outputs": [
    {
     "data": {
      "text/html": [
       "<div>\n",
       "<style scoped>\n",
       "    .dataframe tbody tr th:only-of-type {\n",
       "        vertical-align: middle;\n",
       "    }\n",
       "\n",
       "    .dataframe tbody tr th {\n",
       "        vertical-align: top;\n",
       "    }\n",
       "\n",
       "    .dataframe thead th {\n",
       "        text-align: right;\n",
       "    }\n",
       "</style>\n",
       "<table border=\"1\" class=\"dataframe\">\n",
       "  <thead>\n",
       "    <tr style=\"text-align: right;\">\n",
       "      <th></th>\n",
       "      <th>Autores</th>\n",
       "      <th>Titulos</th>\n",
       "      <th>Preços</th>\n",
       "      <th>Titulo</th>\n",
       "      <th>Preço</th>\n",
       "    </tr>\n",
       "  </thead>\n",
       "  <tbody>\n",
       "    <tr>\n",
       "      <th>7</th>\n",
       "      <td>Rick Riordan</td>\n",
       "      <td>A Maldiça do Titã</td>\n",
       "      <td>40.2</td>\n",
       "      <td>NaN</td>\n",
       "      <td>NaN</td>\n",
       "    </tr>\n",
       "    <tr>\n",
       "      <th>9</th>\n",
       "      <td>Rick Riordan</td>\n",
       "      <td>A Maldiça do Titã</td>\n",
       "      <td>40.2</td>\n",
       "      <td>NaN</td>\n",
       "      <td>NaN</td>\n",
       "    </tr>\n",
       "  </tbody>\n",
       "</table>\n",
       "</div>"
      ],
      "text/plain": [
       "        Autores            Titulos  Preços Titulo  Preço\n",
       "7  Rick Riordan  A Maldiça do Titã    40.2    NaN    NaN\n",
       "9  Rick Riordan  A Maldiça do Titã    40.2    NaN    NaN"
      ]
     },
     "execution_count": 84,
     "metadata": {},
     "output_type": "execute_result"
    }
   ],
   "source": [
    "# A função ( .loc[] - É usada para acessar um grupo de linhas e colunas ).\n",
    "df.loc[mascara_de_correcao]"
   ]
  },
  {
   "cell_type": "code",
   "execution_count": 86,
   "id": "d284c635-9665-47b6-97f9-92ed8dbd69be",
   "metadata": {},
   "outputs": [
    {
     "data": {
      "text/plain": [
       "7    A Maldiça do Titã\n",
       "9    A Maldiça do Titã\n",
       "Name: Titulos, dtype: object"
      ]
     },
     "execution_count": 86,
     "metadata": {},
     "output_type": "execute_result"
    }
   ],
   "source": [
    "# Usando o metodo loc para aparecer so o que estar escrito na coluna Titulos\n",
    "df.loc[mascara_de_correcao, 'Titulos']"
   ]
  },
  {
   "cell_type": "code",
   "execution_count": 90,
   "id": "e7393531-e852-4264-b06b-a8f8bfb3ef77",
   "metadata": {},
   "outputs": [
    {
     "data": {
      "text/html": [
       "<div>\n",
       "<style scoped>\n",
       "    .dataframe tbody tr th:only-of-type {\n",
       "        vertical-align: middle;\n",
       "    }\n",
       "\n",
       "    .dataframe tbody tr th {\n",
       "        vertical-align: top;\n",
       "    }\n",
       "\n",
       "    .dataframe thead th {\n",
       "        text-align: right;\n",
       "    }\n",
       "</style>\n",
       "<table border=\"1\" class=\"dataframe\">\n",
       "  <thead>\n",
       "    <tr style=\"text-align: right;\">\n",
       "      <th></th>\n",
       "      <th>Autores</th>\n",
       "      <th>Titulos</th>\n",
       "      <th>Preços</th>\n",
       "      <th>Titulo</th>\n",
       "      <th>Preço</th>\n",
       "    </tr>\n",
       "  </thead>\n",
       "  <tbody>\n",
       "    <tr>\n",
       "      <th>0</th>\n",
       "      <td>Rick Riordan</td>\n",
       "      <td>O Ladrão de Raios</td>\n",
       "      <td>41.2</td>\n",
       "      <td>NaN</td>\n",
       "      <td>NaN</td>\n",
       "    </tr>\n",
       "    <tr>\n",
       "      <th>1</th>\n",
       "      <td>J. R. R. Tolkien</td>\n",
       "      <td>A Sociedade do Anel</td>\n",
       "      <td>35.7</td>\n",
       "      <td>NaN</td>\n",
       "      <td>NaN</td>\n",
       "    </tr>\n",
       "    <tr>\n",
       "      <th>2</th>\n",
       "      <td>Rick Riordan</td>\n",
       "      <td>Mar de Monstros</td>\n",
       "      <td>39.5</td>\n",
       "      <td>NaN</td>\n",
       "      <td>NaN</td>\n",
       "    </tr>\n",
       "    <tr>\n",
       "      <th>3</th>\n",
       "      <td>Machado de Assis</td>\n",
       "      <td>Memorias Postumas de Brás Cubas</td>\n",
       "      <td>40.5</td>\n",
       "      <td>NaN</td>\n",
       "      <td>NaN</td>\n",
       "    </tr>\n",
       "    <tr>\n",
       "      <th>4</th>\n",
       "      <td>Lidia Eduarda</td>\n",
       "      <td>NaN</td>\n",
       "      <td>NaN</td>\n",
       "      <td>A Rainha</td>\n",
       "      <td>50.9</td>\n",
       "    </tr>\n",
       "    <tr>\n",
       "      <th>5</th>\n",
       "      <td>Lidia Eduarda</td>\n",
       "      <td>A Rainha</td>\n",
       "      <td>50.9</td>\n",
       "      <td>NaN</td>\n",
       "      <td>NaN</td>\n",
       "    </tr>\n",
       "    <tr>\n",
       "      <th>6</th>\n",
       "      <td>Lidia Eduarda</td>\n",
       "      <td>A Rainha</td>\n",
       "      <td>50.9</td>\n",
       "      <td>NaN</td>\n",
       "      <td>NaN</td>\n",
       "    </tr>\n",
       "    <tr>\n",
       "      <th>7</th>\n",
       "      <td>Rick Riordan</td>\n",
       "      <td>A Maldição do Titã</td>\n",
       "      <td>40.2</td>\n",
       "      <td>NaN</td>\n",
       "      <td>NaN</td>\n",
       "    </tr>\n",
       "    <tr>\n",
       "      <th>8</th>\n",
       "      <td>Lidia Eduarda</td>\n",
       "      <td>A Rainha</td>\n",
       "      <td>50.9</td>\n",
       "      <td>NaN</td>\n",
       "      <td>NaN</td>\n",
       "    </tr>\n",
       "    <tr>\n",
       "      <th>9</th>\n",
       "      <td>Rick Riordan</td>\n",
       "      <td>A Maldição do Titã</td>\n",
       "      <td>40.2</td>\n",
       "      <td>NaN</td>\n",
       "      <td>NaN</td>\n",
       "    </tr>\n",
       "  </tbody>\n",
       "</table>\n",
       "</div>"
      ],
      "text/plain": [
       "            Autores                          Titulos  Preços    Titulo  Preço\n",
       "0      Rick Riordan                O Ladrão de Raios    41.2       NaN    NaN\n",
       "1  J. R. R. Tolkien              A Sociedade do Anel    35.7       NaN    NaN\n",
       "2      Rick Riordan                  Mar de Monstros    39.5       NaN    NaN\n",
       "3  Machado de Assis  Memorias Postumas de Brás Cubas    40.5       NaN    NaN\n",
       "4     Lidia Eduarda                              NaN     NaN  A Rainha   50.9\n",
       "5     Lidia Eduarda                         A Rainha    50.9       NaN    NaN\n",
       "6     Lidia Eduarda                         A Rainha    50.9       NaN    NaN\n",
       "7      Rick Riordan               A Maldição do Titã    40.2       NaN    NaN\n",
       "8     Lidia Eduarda                         A Rainha    50.9       NaN    NaN\n",
       "9      Rick Riordan               A Maldição do Titã    40.2       NaN    NaN"
      ]
     },
     "execution_count": 90,
     "metadata": {},
     "output_type": "execute_result"
    }
   ],
   "source": [
    "# Corrigindo o nome dos elementos da coluna Titulo \n",
    "df.loc[mascara_de_correcao, 'Titulos'] = 'A Maldição do Titã'\n",
    "df"
   ]
  }
 ],
 "metadata": {
  "kernelspec": {
   "display_name": "Python 3 (ipykernel)",
   "language": "python",
   "name": "python3"
  },
  "language_info": {
   "codemirror_mode": {
    "name": "ipython",
    "version": 3
   },
   "file_extension": ".py",
   "mimetype": "text/x-python",
   "name": "python",
   "nbconvert_exporter": "python",
   "pygments_lexer": "ipython3",
   "version": "3.11.7"
  }
 },
 "nbformat": 4,
 "nbformat_minor": 5
}
