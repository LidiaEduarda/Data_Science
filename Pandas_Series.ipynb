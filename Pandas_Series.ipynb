{
 "cells": [
  {
   "cell_type": "markdown",
   "id": "3fe4e5e1-7685-4904-92e3-4cc5a29c9190",
   "metadata": {},
   "source": [
    "# Pandas\n",
    "#### Biblioteca de software escrita para a linguagem de programação Python, utilizada para manipulação e análise de dados. Ela oferece estruturas de dados e operações para manipular tabelas numéricas e séries temporais."
   ]
  },
  {
   "cell_type": "code",
   "execution_count": 2,
   "id": "0cba3f78-0a5f-4fd9-8b37-a717f816e5bb",
   "metadata": {},
   "outputs": [],
   "source": [
    "import pandas as pd"
   ]
  },
  {
   "cell_type": "markdown",
   "id": "0e69f92f-9fd4-4c5b-ade3-0bd50df7ae17",
   "metadata": {},
   "source": [
    "#### Series\n",
    "##### É uma estrutura de dados unidimensional que pode conter qualquer tipo de dado (inteiros, strings, floats, etc.). Pode ser vista como uma coluna em uma tabela do Excel."
   ]
  },
  {
   "cell_type": "code",
   "execution_count": 5,
   "id": "08c4a8d5-07b8-4ee9-84bf-b6b40723a56d",
   "metadata": {},
   "outputs": [
    {
     "name": "stdout",
     "output_type": "stream",
     "text": [
      "0    12\n",
      "1    23\n",
      "2    34\n",
      "3    45\n",
      "4    56\n",
      "5    67\n",
      "dtype: int64\n"
     ]
    }
   ],
   "source": [
    "# Atribuindo lista a uma Serie do pandas\n",
    "\n",
    "lista = [12, 23, 34, 45, 56, 67]\n",
    "\n",
    "serie_pandas = pd.Series(lista)\n",
    "print(serie_pandas)"
   ]
  },
  {
   "cell_type": "code",
   "execution_count": 6,
   "id": "9ccb5772-fe1c-452e-847a-f6be11460d24",
   "metadata": {},
   "outputs": [
    {
     "data": {
      "text/plain": [
       "12"
      ]
     },
     "execution_count": 6,
     "metadata": {},
     "output_type": "execute_result"
    }
   ],
   "source": [
    "# Acessando os elementos da variavel serie_pandas\n",
    "serie_pandas[0]"
   ]
  },
  {
   "cell_type": "code",
   "execution_count": 11,
   "id": "b66561f0-59b9-48bb-bdea-dfb42215855f",
   "metadata": {},
   "outputs": [
    {
     "name": "stdout",
     "output_type": "stream",
     "text": [
      "Thiago       8.0\n",
      "Guilherme    9.5\n",
      "Juca         6.2\n",
      "dtype: float64\n"
     ]
    }
   ],
   "source": [
    "# Atribuindo o diccionario notas a uma serie do pandas\n",
    "notas_alunos = {'Thiago' : 8, 'Guilherme' : 9.5, 'Juca' : 6.2}\n",
    "\n",
    "serie_notas = pd.Series(notas_alunos)\n",
    "print(serie_notas)"
   ]
  },
  {
   "cell_type": "code",
   "execution_count": 14,
   "id": "a50ecf02-d4b3-4c0d-816a-950498f765bb",
   "metadata": {},
   "outputs": [
    {
     "data": {
      "text/plain": [
       "8.0"
      ]
     },
     "execution_count": 14,
     "metadata": {},
     "output_type": "execute_result"
    }
   ],
   "source": [
    "# Acessando os elementos de serie notas\n",
    "serie_notas['Thiago']"
   ]
  },
  {
   "cell_type": "code",
   "execution_count": 27,
   "id": "a215329c-e2af-458c-9f0c-025afd430c66",
   "metadata": {},
   "outputs": [
    {
     "data": {
      "text/plain": [
       "7.8999999999999995"
      ]
     },
     "execution_count": 27,
     "metadata": {},
     "output_type": "execute_result"
    }
   ],
   "source": [
    "# Fazendo alguns calculos com serie_notas\n",
    "serie_notas.mean()"
   ]
  },
  {
   "cell_type": "code",
   "execution_count": 28,
   "id": "ae2fed6a-20b4-42d0-aae5-6709e496ba90",
   "metadata": {},
   "outputs": [
    {
     "data": {
      "text/plain": [
       "8.0"
      ]
     },
     "execution_count": 28,
     "metadata": {},
     "output_type": "execute_result"
    }
   ],
   "source": [
    "serie_notas.median()"
   ]
  },
  {
   "cell_type": "code",
   "execution_count": 29,
   "id": "b2acba5e-8a32-48b2-9d7b-1bbe6d348110",
   "metadata": {},
   "outputs": [
    {
     "data": {
      "text/plain": [
       "count    3.000000\n",
       "mean     7.900000\n",
       "std      1.652271\n",
       "min      6.200000\n",
       "25%      7.100000\n",
       "50%      8.000000\n",
       "75%      8.750000\n",
       "max      9.500000\n",
       "dtype: float64"
      ]
     },
     "execution_count": 29,
     "metadata": {},
     "output_type": "execute_result"
    }
   ],
   "source": [
    "serie_notas.describe()"
   ]
  },
  {
   "cell_type": "code",
   "execution_count": 30,
   "id": "94661aa3-28e4-4220-a5f5-6ed74e13e046",
   "metadata": {},
   "outputs": [
    {
     "data": {
      "text/plain": [
       "23.7"
      ]
     },
     "execution_count": 30,
     "metadata": {},
     "output_type": "execute_result"
    }
   ],
   "source": [
    "serie_notas.sum()"
   ]
  },
  {
   "cell_type": "code",
   "execution_count": null,
   "id": "b34a2d3e-d82b-4ffd-be05-101ae74be645",
   "metadata": {},
   "outputs": [],
   "source": [
    "numero = pd."
   ]
  }
 ],
 "metadata": {
  "kernelspec": {
   "display_name": "Python 3 (ipykernel)",
   "language": "python",
   "name": "python3"
  },
  "language_info": {
   "codemirror_mode": {
    "name": "ipython",
    "version": 3
   },
   "file_extension": ".py",
   "mimetype": "text/x-python",
   "name": "python",
   "nbconvert_exporter": "python",
   "pygments_lexer": "ipython3",
   "version": "3.11.7"
  }
 },
 "nbformat": 4,
 "nbformat_minor": 5
}
